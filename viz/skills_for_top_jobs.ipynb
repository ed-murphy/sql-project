{
  "cells": [
    {
      "cell_type": "code",
      "execution_count": null,
      "metadata": {
        "colab": {
          "base_uri": "https://localhost:8080/",
          "height": 487
        },
        "id": "x86VZh8wGkOK",
        "outputId": "e163a0bc-b24e-4a3d-eda5-2cd0e7471f68"
      },
      "outputs": [],
      "source": [
        "import pandas as pd\n",
        "import matplotlib.pyplot as plt\n",
        "\n",
        "# Load your CSV\n",
        "df = pd.read_csv('query 2.csv')\n",
        "\n",
        "# Count skills\n",
        "skill_counts = df['skills'].value_counts()\n",
        "\n",
        "# Plot horizontal bar chart\n",
        "skill_counts.sort_values().plot(kind='barh')\n",
        "plt.ylabel('Skill')\n",
        "plt.xlabel('Number of times the skill appears in top 10 paying remote jobs')\n",
        "plt.title('Skills Required for the 10 Top-Paying Remote Data Analyst Jobs')\n",
        "plt.tight_layout()\n",
        "plt.show()"
      ]
    }
  ],
  "metadata": {
    "colab": {
      "authorship_tag": "ABX9TyOt1GFScV5/cPHg/Qkjq0MZ",
      "provenance": []
    },
    "kernelspec": {
      "display_name": "Python 3",
      "name": "python3"
    },
    "language_info": {
      "name": "python"
    }
  },
  "nbformat": 4,
  "nbformat_minor": 0
}
